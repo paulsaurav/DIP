{
 "cells": [
  {
   "cell_type": "code",
   "execution_count": 3,
   "id": "87f168b3",
   "metadata": {},
   "outputs": [],
   "source": [
    "from PIL import Image"
   ]
  },
  {
   "cell_type": "code",
   "execution_count": 4,
   "id": "0f37fe6c",
   "metadata": {},
   "outputs": [],
   "source": [
    "img = Image.new('RGB', (500, 300), (125, 125, 125))\n",
    "draw = ImageDraw.Draw(img)\n",
    "draw.rectangle((200, 125, 300, 200),fill=(0, 255, 0),outline=(0, 0, 0))\n",
    "img.show()"
   ]
  },
  {
   "cell_type": "code",
   "execution_count": null,
   "id": "66f724e3",
   "metadata": {},
   "outputs": [],
   "source": []
  }
 ],
 "metadata": {
  "kernelspec": {
   "display_name": "Python 3 (ipykernel)",
   "language": "python",
   "name": "python3"
  },
  "language_info": {
   "codemirror_mode": {
    "name": "ipython",
    "version": 3
   },
   "file_extension": ".py",
   "mimetype": "text/x-python",
   "name": "python",
   "nbconvert_exporter": "python",
   "pygments_lexer": "ipython3",
   "version": "3.9.12"
  }
 },
 "nbformat": 4,
 "nbformat_minor": 5
}
