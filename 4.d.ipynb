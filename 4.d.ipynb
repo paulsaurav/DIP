{
 "cells": [
  {
   "cell_type": "code",
   "execution_count": 1,
   "id": "56f0b233",
   "metadata": {},
   "outputs": [],
   "source": [
    "from PIL import Image, ImageDraw"
   ]
  },
  {
   "cell_type": "code",
   "execution_count": 2,
   "id": "0ec26028",
   "metadata": {},
   "outputs": [],
   "source": [
    "img = Image.new('RGB', (500, 300), (125, 125, 125))\n",
    "draw = ImageDraw.Draw(img)\n",
    "draw.polygon(((200, 200), (300, 100), (250, 50)),fill=(0, 0, 255),outline=(0, 0, 0))\n",
    "img.show()"
   ]
  },
  {
   "cell_type": "code",
   "execution_count": null,
   "id": "6055c6f8",
   "metadata": {},
   "outputs": [],
   "source": []
  }
 ],
 "metadata": {
  "kernelspec": {
   "display_name": "Python 3 (ipykernel)",
   "language": "python",
   "name": "python3"
  },
  "language_info": {
   "codemirror_mode": {
    "name": "ipython",
    "version": 3
   },
   "file_extension": ".py",
   "mimetype": "text/x-python",
   "name": "python",
   "nbconvert_exporter": "python",
   "pygments_lexer": "ipython3",
   "version": "3.9.12"
  }
 },
 "nbformat": 4,
 "nbformat_minor": 5
}
