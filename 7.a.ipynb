{
 "cells": [
  {
   "cell_type": "code",
   "execution_count": 2,
   "id": "0630165a",
   "metadata": {},
   "outputs": [],
   "source": [
    "from PIL import Image\n",
    "from numpy import array"
   ]
  },
  {
   "cell_type": "code",
   "execution_count": 3,
   "id": "63c14303",
   "metadata": {},
   "outputs": [
    {
     "name": "stdout",
     "output_type": "stream",
     "text": [
      "[[[ 62  42 153]\n",
      "  [ 58  38 149]\n",
      "  [ 56  36 147]\n",
      "  ...\n",
      "  [108  74 246]\n",
      "  [123  88 253]\n",
      "  [139 104 255]]\n",
      "\n",
      " [[ 65  45 156]\n",
      "  [ 61  41 152]\n",
      "  [ 60  40 151]\n",
      "  ...\n",
      "  [100  66 238]\n",
      "  [111  76 241]\n",
      "  [125  90 254]]\n",
      "\n",
      " [[ 67  47 158]\n",
      "  [ 64  44 155]\n",
      "  [ 63  43 154]\n",
      "  ...\n",
      "  [ 98  62 234]\n",
      "  [104  68 236]\n",
      "  [117  80 246]]\n",
      "\n",
      " ...\n",
      "\n",
      " [[ 14   6  45]\n",
      "  [ 14   6  45]\n",
      "  [ 14   6  45]\n",
      "  ...\n",
      "  [ 15   4  44]\n",
      "  [ 15   4  44]\n",
      "  [ 16   6  43]]\n",
      "\n",
      " [[ 14   6  45]\n",
      "  [ 14   6  45]\n",
      "  [ 14   6  45]\n",
      "  ...\n",
      "  [ 14   3  43]\n",
      "  [ 15   4  44]\n",
      "  [ 15   5  42]]\n",
      "\n",
      " [[ 14   6  45]\n",
      "  [ 14   6  45]\n",
      "  [ 14   6  45]\n",
      "  ...\n",
      "  [ 15   4  44]\n",
      "  [ 15   4  44]\n",
      "  [ 16   6  43]]]\n"
     ]
    }
   ],
   "source": [
    "img = Image.open('Tanjiro.jpg')\n",
    "img2arr = array(img)\n",
    "print(img2arr)"
   ]
  },
  {
   "cell_type": "code",
   "execution_count": 4,
   "id": "de273d99",
   "metadata": {},
   "outputs": [],
   "source": [
    "arr2im = Image.fromarray(img2arr)"
   ]
  },
  {
   "cell_type": "code",
   "execution_count": 5,
   "id": "16468915",
   "metadata": {},
   "outputs": [],
   "source": [
    "arr2im.show()"
   ]
  },
  {
   "cell_type": "code",
   "execution_count": null,
   "id": "d5547210",
   "metadata": {},
   "outputs": [],
   "source": []
  }
 ],
 "metadata": {
  "kernelspec": {
   "display_name": "Python 3 (ipykernel)",
   "language": "python",
   "name": "python3"
  },
  "language_info": {
   "codemirror_mode": {
    "name": "ipython",
    "version": 3
   },
   "file_extension": ".py",
   "mimetype": "text/x-python",
   "name": "python",
   "nbconvert_exporter": "python",
   "pygments_lexer": "ipython3",
   "version": "3.9.12"
  }
 },
 "nbformat": 4,
 "nbformat_minor": 5
}
