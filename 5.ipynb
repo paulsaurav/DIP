{
 "cells": [
  {
   "cell_type": "code",
   "execution_count": 1,
   "id": "90d98a7b",
   "metadata": {},
   "outputs": [],
   "source": [
    "from PIL import Image"
   ]
  },
  {
   "cell_type": "code",
   "execution_count": 2,
   "id": "346f2025",
   "metadata": {},
   "outputs": [
    {
     "name": "stderr",
     "output_type": "stream",
     "text": [
      "C:\\Users\\boga gaming\\AppData\\Local\\Temp\\ipykernel_2716\\3833104462.py:2: DeprecationWarning: FLIP_LEFT_RIGHT is deprecated and will be removed in Pillow 10 (2023-07-01). Use Transpose.FLIP_LEFT_RIGHT instead.\n",
      "  hori_flippedImage = imageObject.transpose(Image.FLIP_LEFT_RIGHT)\n"
     ]
    }
   ],
   "source": [
    "imageObject = Image.open(\"Tanjiro.jpg\")\n",
    "hori_flippedImage = imageObject.transpose(Image.FLIP_LEFT_RIGHT)"
   ]
  },
  {
   "cell_type": "code",
   "execution_count": 4,
   "id": "79b4c776",
   "metadata": {},
   "outputs": [],
   "source": [
    "imageObject.show()"
   ]
  },
  {
   "cell_type": "code",
   "execution_count": 5,
   "id": "f6c02710",
   "metadata": {},
   "outputs": [],
   "source": [
    "hori_flippedImage.show()"
   ]
  },
  {
   "cell_type": "code",
   "execution_count": 6,
   "id": "4af171be",
   "metadata": {},
   "outputs": [
    {
     "name": "stderr",
     "output_type": "stream",
     "text": [
      "C:\\Users\\boga gaming\\AppData\\Local\\Temp\\ipykernel_2716\\3319239028.py:1: DeprecationWarning: FLIP_TOP_BOTTOM is deprecated and will be removed in Pillow 10 (2023-07-01). Use Transpose.FLIP_TOP_BOTTOM instead.\n",
      "  Vert_flippedImage = imageObject.transpose(Image.FLIP_TOP_BOTTOM)\n"
     ]
    }
   ],
   "source": [
    "Vert_flippedImage = imageObject.transpose(Image.FLIP_TOP_BOTTOM)\n",
    "Vert_flippedImage.show()"
   ]
  },
  {
   "cell_type": "code",
   "execution_count": null,
   "id": "cfc7c0fe",
   "metadata": {},
   "outputs": [],
   "source": [
    "degree_flippedImage = imageObject.transpose(Image.ROTATE_90)\n",
    "degree_flippedImage.show()"
   ]
  },
  {
   "cell_type": "code",
   "execution_count": null,
   "id": "0d63ef02",
   "metadata": {},
   "outputs": [],
   "source": []
  }
 ],
 "metadata": {
  "kernelspec": {
   "display_name": "Python 3 (ipykernel)",
   "language": "python",
   "name": "python3"
  },
  "language_info": {
   "codemirror_mode": {
    "name": "ipython",
    "version": 3
   },
   "file_extension": ".py",
   "mimetype": "text/x-python",
   "name": "python",
   "nbconvert_exporter": "python",
   "pygments_lexer": "ipython3",
   "version": "3.9.12"
  }
 },
 "nbformat": 4,
 "nbformat_minor": 5
}
