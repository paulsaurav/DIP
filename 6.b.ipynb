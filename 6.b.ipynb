{
 "cells": [
  {
   "cell_type": "code",
   "execution_count": 1,
   "id": "e80d0a06",
   "metadata": {},
   "outputs": [],
   "source": [
    "from PIL import Image"
   ]
  },
  {
   "cell_type": "code",
   "execution_count": 3,
   "id": "c85bcef1",
   "metadata": {},
   "outputs": [],
   "source": [
    "im = Image.open(\"Tanjiro.jpg\")\n",
    "left = 155\n",
    "top = 65\n",
    "right = 360\n",
    "bottom = 270"
   ]
  },
  {
   "cell_type": "code",
   "execution_count": 4,
   "id": "5bbf497f",
   "metadata": {},
   "outputs": [],
   "source": [
    "im1 = im.crop((left, top, right, bottom))\n",
    "im1.show()"
   ]
  },
  {
   "cell_type": "code",
   "execution_count": null,
   "id": "84b77ab3",
   "metadata": {},
   "outputs": [],
   "source": []
  }
 ],
 "metadata": {
  "kernelspec": {
   "display_name": "Python 3 (ipykernel)",
   "language": "python",
   "name": "python3"
  },
  "language_info": {
   "codemirror_mode": {
    "name": "ipython",
    "version": 3
   },
   "file_extension": ".py",
   "mimetype": "text/x-python",
   "name": "python",
   "nbconvert_exporter": "python",
   "pygments_lexer": "ipython3",
   "version": "3.9.12"
  }
 },
 "nbformat": 4,
 "nbformat_minor": 5
}
