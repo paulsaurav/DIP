{
 "cells": [
  {
   "cell_type": "code",
   "execution_count": 1,
   "id": "38e7b592",
   "metadata": {},
   "outputs": [],
   "source": [
    "from PIL import Image, ImageDraw, ImageFont"
   ]
  },
  {
   "cell_type": "code",
   "execution_count": 2,
   "id": "06d5198f",
   "metadata": {},
   "outputs": [
    {
     "name": "stderr",
     "output_type": "stream",
     "text": [
      "C:\\Users\\boga gaming\\AppData\\Local\\Temp\\ipykernel_23172\\3132545416.py:6: DeprecationWarning: textsize is deprecated and will be removed in Pillow 10 (2023-07-01). Use textbbox or textlength instead.\n",
      "  textwidth, textheight = draw.textsize(text, font)\n"
     ]
    }
   ],
   "source": [
    "im = Image.open('Tanjiro.jpg')\n",
    "width, height = im.size\n",
    "draw = ImageDraw.Draw(im)\n",
    "text = \"sample watermark\"\n",
    "font = ImageFont.truetype('arial.ttf', 36)\n",
    "textwidth, textheight = draw.textsize(text, font)"
   ]
  },
  {
   "cell_type": "code",
   "execution_count": 3,
   "id": "53bb11c8",
   "metadata": {},
   "outputs": [],
   "source": [
    "margin = 10\n",
    "x = width - textwidth - margin\n",
    "y = height - textheight - margin"
   ]
  },
  {
   "cell_type": "code",
   "execution_count": 5,
   "id": "c5abfafe",
   "metadata": {},
   "outputs": [],
   "source": [
    "draw.text((x, y), text, font=font)\n",
    "im.show()"
   ]
  },
  {
   "cell_type": "code",
   "execution_count": null,
   "id": "b4a4816a",
   "metadata": {},
   "outputs": [],
   "source": []
  }
 ],
 "metadata": {
  "kernelspec": {
   "display_name": "Python 3 (ipykernel)",
   "language": "python",
   "name": "python3"
  },
  "language_info": {
   "codemirror_mode": {
    "name": "ipython",
    "version": 3
   },
   "file_extension": ".py",
   "mimetype": "text/x-python",
   "name": "python",
   "nbconvert_exporter": "python",
   "pygments_lexer": "ipython3",
   "version": "3.9.12"
  }
 },
 "nbformat": 4,
 "nbformat_minor": 5
}
