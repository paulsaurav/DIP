{
 "cells": [
  {
   "cell_type": "code",
   "execution_count": 1,
   "id": "3d74d6ac",
   "metadata": {},
   "outputs": [],
   "source": [
    "from PIL import Image, ImageFilter"
   ]
  },
  {
   "cell_type": "code",
   "execution_count": 2,
   "id": "f9d33d22",
   "metadata": {},
   "outputs": [],
   "source": [
    "OriImage = Image.open('Tanjiro.jpg')\n",
    "blurImage = OriImage.filter(ImageFilter.BLUR)\n",
    "blurImage.show()"
   ]
  },
  {
   "cell_type": "code",
   "execution_count": null,
   "id": "c6e3df6b",
   "metadata": {},
   "outputs": [],
   "source": []
  }
 ],
 "metadata": {
  "kernelspec": {
   "display_name": "Python 3 (ipykernel)",
   "language": "python",
   "name": "python3"
  },
  "language_info": {
   "codemirror_mode": {
    "name": "ipython",
    "version": 3
   },
   "file_extension": ".py",
   "mimetype": "text/x-python",
   "name": "python",
   "nbconvert_exporter": "python",
   "pygments_lexer": "ipython3",
   "version": "3.9.12"
  }
 },
 "nbformat": 4,
 "nbformat_minor": 5
}
